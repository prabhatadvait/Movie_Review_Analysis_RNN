{
 "cells": [
  {
   "cell_type": "code",
   "execution_count": 2,
   "id": "2ebb278b",
   "metadata": {},
   "outputs": [],
   "source": [
    "import numpy as np \n",
    "import tensorflow as tf \n",
    "from tensorflow.keras.datasets import imdb\n",
    "from tensorflow.keras.preprocessing import sequence\n",
    "from tensorflow.keras.models import Sequential\n",
    "from tensorflow.keras.layers import Embedding, SimpleRNN, Dense"
   ]
  },
  {
   "cell_type": "code",
   "execution_count": 13,
   "id": "bf5bc552",
   "metadata": {},
   "outputs": [],
   "source": [
    "## Mapping the review back to words\n",
    "word_index = imdb.get_word_index()\n",
    "reverse_word_index = {value: key for (key, value) in word_index.items()}"
   ]
  },
  {
   "cell_type": "code",
   "execution_count": 14,
   "id": "7b86a3b1",
   "metadata": {},
   "outputs": [
    {
     "name": "stderr",
     "output_type": "stream",
     "text": [
      "WARNING:absl:Compiled the loaded model, but the compiled metrics have yet to be built. `model.compile_metrics` will be empty until you train or evaluate the model.\n"
     ]
    }
   ],
   "source": [
    "from tensorflow.keras.models import load_model\n",
    "\n",
    "## Load the model\n",
    "model = load_model('simplernn_model.h5')"
   ]
  },
  {
   "cell_type": "code",
   "execution_count": 6,
   "id": "493f4bd4",
   "metadata": {},
   "outputs": [
    {
     "data": {
      "text/html": [
       "<pre style=\"white-space:pre;overflow-x:auto;line-height:normal;font-family:Menlo,'DejaVu Sans Mono',consolas,'Courier New',monospace\"><span style=\"font-weight: bold\">Model: \"sequential\"</span>\n",
       "</pre>\n"
      ],
      "text/plain": [
       "\u001b[1mModel: \"sequential\"\u001b[0m\n"
      ]
     },
     "metadata": {},
     "output_type": "display_data"
    },
    {
     "data": {
      "text/html": [
       "<pre style=\"white-space:pre;overflow-x:auto;line-height:normal;font-family:Menlo,'DejaVu Sans Mono',consolas,'Courier New',monospace\">┏━━━━━━━━━━━━━━━━━━━━━━━━━━━━━━━━━┳━━━━━━━━━━━━━━━━━━━━━━━━┳━━━━━━━━━━━━━━━┓\n",
       "┃<span style=\"font-weight: bold\"> Layer (type)                    </span>┃<span style=\"font-weight: bold\"> Output Shape           </span>┃<span style=\"font-weight: bold\">       Param # </span>┃\n",
       "┡━━━━━━━━━━━━━━━━━━━━━━━━━━━━━━━━━╇━━━━━━━━━━━━━━━━━━━━━━━━╇━━━━━━━━━━━━━━━┩\n",
       "│ embedding (<span style=\"color: #0087ff; text-decoration-color: #0087ff\">Embedding</span>)           │ (<span style=\"color: #00af00; text-decoration-color: #00af00\">32</span>, <span style=\"color: #00af00; text-decoration-color: #00af00\">500</span>, <span style=\"color: #00af00; text-decoration-color: #00af00\">128</span>)         │     <span style=\"color: #00af00; text-decoration-color: #00af00\">1,280,000</span> │\n",
       "├─────────────────────────────────┼────────────────────────┼───────────────┤\n",
       "│ simple_rnn (<span style=\"color: #0087ff; text-decoration-color: #0087ff\">SimpleRNN</span>)          │ (<span style=\"color: #00af00; text-decoration-color: #00af00\">32</span>, <span style=\"color: #00af00; text-decoration-color: #00af00\">128</span>)              │        <span style=\"color: #00af00; text-decoration-color: #00af00\">32,896</span> │\n",
       "├─────────────────────────────────┼────────────────────────┼───────────────┤\n",
       "│ dense (<span style=\"color: #0087ff; text-decoration-color: #0087ff\">Dense</span>)                   │ (<span style=\"color: #00af00; text-decoration-color: #00af00\">32</span>, <span style=\"color: #00af00; text-decoration-color: #00af00\">1</span>)                │           <span style=\"color: #00af00; text-decoration-color: #00af00\">129</span> │\n",
       "└─────────────────────────────────┴────────────────────────┴───────────────┘\n",
       "</pre>\n"
      ],
      "text/plain": [
       "┏━━━━━━━━━━━━━━━━━━━━━━━━━━━━━━━━━┳━━━━━━━━━━━━━━━━━━━━━━━━┳━━━━━━━━━━━━━━━┓\n",
       "┃\u001b[1m \u001b[0m\u001b[1mLayer (type)                   \u001b[0m\u001b[1m \u001b[0m┃\u001b[1m \u001b[0m\u001b[1mOutput Shape          \u001b[0m\u001b[1m \u001b[0m┃\u001b[1m \u001b[0m\u001b[1m      Param #\u001b[0m\u001b[1m \u001b[0m┃\n",
       "┡━━━━━━━━━━━━━━━━━━━━━━━━━━━━━━━━━╇━━━━━━━━━━━━━━━━━━━━━━━━╇━━━━━━━━━━━━━━━┩\n",
       "│ embedding (\u001b[38;5;33mEmbedding\u001b[0m)           │ (\u001b[38;5;34m32\u001b[0m, \u001b[38;5;34m500\u001b[0m, \u001b[38;5;34m128\u001b[0m)         │     \u001b[38;5;34m1,280,000\u001b[0m │\n",
       "├─────────────────────────────────┼────────────────────────┼───────────────┤\n",
       "│ simple_rnn (\u001b[38;5;33mSimpleRNN\u001b[0m)          │ (\u001b[38;5;34m32\u001b[0m, \u001b[38;5;34m128\u001b[0m)              │        \u001b[38;5;34m32,896\u001b[0m │\n",
       "├─────────────────────────────────┼────────────────────────┼───────────────┤\n",
       "│ dense (\u001b[38;5;33mDense\u001b[0m)                   │ (\u001b[38;5;34m32\u001b[0m, \u001b[38;5;34m1\u001b[0m)                │           \u001b[38;5;34m129\u001b[0m │\n",
       "└─────────────────────────────────┴────────────────────────┴───────────────┘\n"
      ]
     },
     "metadata": {},
     "output_type": "display_data"
    },
    {
     "data": {
      "text/html": [
       "<pre style=\"white-space:pre;overflow-x:auto;line-height:normal;font-family:Menlo,'DejaVu Sans Mono',consolas,'Courier New',monospace\"><span style=\"font-weight: bold\"> Total params: </span><span style=\"color: #00af00; text-decoration-color: #00af00\">1,313,027</span> (5.01 MB)\n",
       "</pre>\n"
      ],
      "text/plain": [
       "\u001b[1m Total params: \u001b[0m\u001b[38;5;34m1,313,027\u001b[0m (5.01 MB)\n"
      ]
     },
     "metadata": {},
     "output_type": "display_data"
    },
    {
     "data": {
      "text/html": [
       "<pre style=\"white-space:pre;overflow-x:auto;line-height:normal;font-family:Menlo,'DejaVu Sans Mono',consolas,'Courier New',monospace\"><span style=\"font-weight: bold\"> Trainable params: </span><span style=\"color: #00af00; text-decoration-color: #00af00\">1,313,025</span> (5.01 MB)\n",
       "</pre>\n"
      ],
      "text/plain": [
       "\u001b[1m Trainable params: \u001b[0m\u001b[38;5;34m1,313,025\u001b[0m (5.01 MB)\n"
      ]
     },
     "metadata": {},
     "output_type": "display_data"
    },
    {
     "data": {
      "text/html": [
       "<pre style=\"white-space:pre;overflow-x:auto;line-height:normal;font-family:Menlo,'DejaVu Sans Mono',consolas,'Courier New',monospace\"><span style=\"font-weight: bold\"> Non-trainable params: </span><span style=\"color: #00af00; text-decoration-color: #00af00\">0</span> (0.00 B)\n",
       "</pre>\n"
      ],
      "text/plain": [
       "\u001b[1m Non-trainable params: \u001b[0m\u001b[38;5;34m0\u001b[0m (0.00 B)\n"
      ]
     },
     "metadata": {},
     "output_type": "display_data"
    },
    {
     "data": {
      "text/html": [
       "<pre style=\"white-space:pre;overflow-x:auto;line-height:normal;font-family:Menlo,'DejaVu Sans Mono',consolas,'Courier New',monospace\"><span style=\"font-weight: bold\"> Optimizer params: </span><span style=\"color: #00af00; text-decoration-color: #00af00\">2</span> (12.00 B)\n",
       "</pre>\n"
      ],
      "text/plain": [
       "\u001b[1m Optimizer params: \u001b[0m\u001b[38;5;34m2\u001b[0m (12.00 B)\n"
      ]
     },
     "metadata": {},
     "output_type": "display_data"
    }
   ],
   "source": [
    "model.summary()"
   ]
  },
  {
   "cell_type": "code",
   "execution_count": 15,
   "id": "9e254025",
   "metadata": {},
   "outputs": [
    {
     "data": {
      "text/plain": [
       "[array([[-0.88271654, -0.47872445, -0.13251378, ...,  0.23610441,\n",
       "         -0.06307053,  0.2029039 ],\n",
       "        [-0.07633   , -0.001102  ,  0.04912087, ...,  0.06962881,\n",
       "          0.07124171,  0.07571266],\n",
       "        [-0.09675285, -0.00375958,  0.06917627, ...,  0.12930234,\n",
       "          0.04912324,  0.03874203],\n",
       "        ...,\n",
       "        [ 0.07347121, -0.08247899, -0.07703865, ..., -0.04728374,\n",
       "          0.0152122 ,  0.10437442],\n",
       "        [-0.02023461,  0.00492625,  0.00154891, ...,  0.03995128,\n",
       "          0.06541598, -0.09473927],\n",
       "        [ 0.04017572,  0.00608636, -0.07254235, ..., -0.09002886,\n",
       "          0.00332182,  0.04245321]], dtype=float32),\n",
       " array([[ 0.02707365, -0.0730303 ,  0.10801876, ..., -0.04301136,\n",
       "         -0.09813731,  0.07564528],\n",
       "        [-0.06118715,  0.10909386, -0.01447006, ..., -0.09643301,\n",
       "          0.13140252,  0.07469983],\n",
       "        [-0.05796243, -0.07444864, -0.13150898, ...,  0.05580657,\n",
       "         -0.03869845, -0.0621478 ],\n",
       "        ...,\n",
       "        [-0.07713835, -0.01093802, -0.07360689, ..., -0.03923793,\n",
       "          0.16863824, -0.12211617],\n",
       "        [ 0.01876275,  0.1192318 ,  0.13623019, ...,  0.07581561,\n",
       "         -0.09854985, -0.11671501],\n",
       "        [-0.14788373,  0.05347841, -0.0776433 , ..., -0.05563268,\n",
       "         -0.0765287 , -0.09015016]], dtype=float32),\n",
       " array([[ 0.02667161,  0.22985613,  0.00197273, ..., -0.21125829,\n",
       "         -0.17610988,  0.09104043],\n",
       "        [ 0.04197395,  0.13543332,  0.14172833, ..., -0.09508862,\n",
       "          0.05078295, -0.04139883],\n",
       "        [-0.0243564 , -0.11546936, -0.05279944, ..., -0.08724882,\n",
       "          0.04897345, -0.06156757],\n",
       "        ...,\n",
       "        [-0.03674755,  0.08481374, -0.13743865, ...,  0.018821  ,\n",
       "          0.0431695 ,  0.03919604],\n",
       "        [ 0.00749036,  0.09834176, -0.01597175, ...,  0.04247867,\n",
       "          0.06557235, -0.01915178],\n",
       "        [-0.00329644,  0.13290381, -0.06744695, ..., -0.0132584 ,\n",
       "          0.00374558, -0.06978101]], dtype=float32),\n",
       " array([-0.03281664,  0.01047856, -0.00905719, -0.01594726, -0.00158145,\n",
       "         0.02530286, -0.02243278, -0.02317221, -0.01699194, -0.01615656,\n",
       "        -0.01662404, -0.00520062, -0.01404698, -0.01812062,  0.01417276,\n",
       "        -0.02494226,  0.03222999, -0.01843864, -0.02149285, -0.00475733,\n",
       "         0.00189425,  0.03071366, -0.01519907, -0.00522288, -0.02608864,\n",
       "         0.00945341,  0.00281281,  0.01969435,  0.00341159,  0.0020317 ,\n",
       "        -0.01892184, -0.03392821,  0.01672218, -0.00626219, -0.00105803,\n",
       "        -0.00972574, -0.02990329, -0.00129814, -0.04280017,  0.04316055,\n",
       "         0.01793978,  0.01262763,  0.015643  , -0.01263578,  0.00095824,\n",
       "        -0.01677365, -0.01350822, -0.02654189,  0.02473265, -0.02867056,\n",
       "        -0.03522562, -0.02555997, -0.01653364,  0.04418651,  0.03224635,\n",
       "        -0.02845454, -0.01226173, -0.00128435, -0.03568478,  0.00557723,\n",
       "        -0.01903369, -0.01419015, -0.01668192,  0.02096018, -0.02601734,\n",
       "         0.03013034,  0.01153154, -0.01646327, -0.00652003, -0.01134263,\n",
       "         0.0315166 , -0.02779135, -0.02844689,  0.00343163,  0.035806  ,\n",
       "        -0.02748374, -0.01633992, -0.0146759 ,  0.0243625 ,  0.00401619,\n",
       "        -0.02579287,  0.00806857,  0.02691503,  0.03267995,  0.04914029,\n",
       "        -0.01007115, -0.02411792, -0.0053943 , -0.04649782, -0.03717021,\n",
       "         0.03290635, -0.01220762, -0.04079494, -0.01964534,  0.03526977,\n",
       "         0.00470717, -0.00624288, -0.03393771,  0.03453233, -0.01097432,\n",
       "        -0.0342694 ,  0.0359073 , -0.01417638,  0.00275884, -0.03349026,\n",
       "         0.03750955,  0.03163694,  0.01791001, -0.01989334,  0.00813746,\n",
       "         0.00568273, -0.02476737, -0.02278322, -0.03741593,  0.03683326,\n",
       "        -0.03483978, -0.01461474, -0.01315216, -0.03020246, -0.03421912,\n",
       "        -0.02345395,  0.0347445 , -0.03976109, -0.01135919, -0.0313907 ,\n",
       "        -0.03761699,  0.02024887, -0.02750645], dtype=float32),\n",
       " array([[ 6.63698092e-02],\n",
       "        [ 1.96572483e-01],\n",
       "        [ 1.83151335e-01],\n",
       "        [ 2.68644597e-02],\n",
       "        [ 1.57933787e-01],\n",
       "        [ 1.99401379e-01],\n",
       "        [ 1.99153960e-01],\n",
       "        [-1.91498503e-01],\n",
       "        [ 1.88781813e-01],\n",
       "        [-6.59774691e-02],\n",
       "        [ 1.67115390e-01],\n",
       "        [ 6.62659109e-02],\n",
       "        [-2.31883913e-01],\n",
       "        [-2.11346611e-01],\n",
       "        [-1.75679088e-01],\n",
       "        [ 1.77527845e-01],\n",
       "        [-8.62525329e-02],\n",
       "        [-1.08150303e-01],\n",
       "        [ 1.72500372e-01],\n",
       "        [-1.60451084e-02],\n",
       "        [ 1.94250867e-01],\n",
       "        [ 3.15271295e-03],\n",
       "        [-2.27348376e-02],\n",
       "        [ 1.83535382e-01],\n",
       "        [-1.41380176e-01],\n",
       "        [ 3.19524296e-02],\n",
       "        [ 2.01029450e-01],\n",
       "        [-9.96477604e-02],\n",
       "        [ 1.38483077e-01],\n",
       "        [ 3.09166998e-01],\n",
       "        [ 1.39309615e-01],\n",
       "        [ 1.23010334e-02],\n",
       "        [-7.36816823e-02],\n",
       "        [ 7.08318502e-02],\n",
       "        [ 1.91226810e-01],\n",
       "        [-1.70628875e-01],\n",
       "        [-5.99557348e-02],\n",
       "        [ 1.38059810e-01],\n",
       "        [ 2.20713895e-02],\n",
       "        [-1.91844642e-01],\n",
       "        [-1.37009904e-01],\n",
       "        [ 1.62984431e-01],\n",
       "        [-1.18430965e-01],\n",
       "        [-1.01822428e-01],\n",
       "        [ 5.63202083e-01],\n",
       "        [-5.86833097e-02],\n",
       "        [ 1.07796013e-01],\n",
       "        [ 1.10376142e-01],\n",
       "        [ 1.89432114e-01],\n",
       "        [ 3.49500515e-02],\n",
       "        [ 4.71713953e-03],\n",
       "        [ 1.01780735e-01],\n",
       "        [ 2.13341042e-01],\n",
       "        [-7.13007078e-02],\n",
       "        [-6.83829859e-02],\n",
       "        [-1.69631183e-01],\n",
       "        [-5.47651052e-02],\n",
       "        [ 4.27156910e-02],\n",
       "        [ 2.16076858e-02],\n",
       "        [ 1.81083322e-01],\n",
       "        [ 1.78151846e-01],\n",
       "        [-2.75826812e-01],\n",
       "        [ 2.10540771e-01],\n",
       "        [ 1.14296228e-01],\n",
       "        [ 1.19392380e-01],\n",
       "        [-1.59380913e-01],\n",
       "        [-1.31671429e-01],\n",
       "        [ 1.68562904e-01],\n",
       "        [ 1.47648305e-01],\n",
       "        [-2.90594429e-01],\n",
       "        [-2.00344354e-01],\n",
       "        [ 1.13004610e-01],\n",
       "        [ 1.25852674e-01],\n",
       "        [-1.82821676e-01],\n",
       "        [-1.06100139e-04],\n",
       "        [ 4.70033661e-02],\n",
       "        [ 1.79432556e-01],\n",
       "        [ 2.41829246e-01],\n",
       "        [-9.03795436e-02],\n",
       "        [ 9.11717787e-02],\n",
       "        [-1.55136749e-01],\n",
       "        [-7.53856823e-02],\n",
       "        [ 1.82967365e-01],\n",
       "        [-1.88701436e-01],\n",
       "        [ 2.19345719e-01],\n",
       "        [ 1.12267680e-01],\n",
       "        [ 6.29467592e-02],\n",
       "        [ 9.91327241e-02],\n",
       "        [ 1.49817675e-01],\n",
       "        [-6.62167603e-03],\n",
       "        [ 9.32515785e-03],\n",
       "        [-1.10362482e-03],\n",
       "        [ 6.12579882e-02],\n",
       "        [-2.88828723e-02],\n",
       "        [-2.26032510e-02],\n",
       "        [-7.07936659e-02],\n",
       "        [-2.19648257e-01],\n",
       "        [ 8.85104910e-02],\n",
       "        [-1.53194696e-01],\n",
       "        [ 1.61954656e-01],\n",
       "        [ 2.10412353e-01],\n",
       "        [-2.85762757e-01],\n",
       "        [ 1.30849555e-01],\n",
       "        [ 1.81887701e-01],\n",
       "        [-2.95307743e-03],\n",
       "        [ 2.02773690e-01],\n",
       "        [ 1.53075419e-02],\n",
       "        [ 8.26959126e-03],\n",
       "        [-1.23414941e-01],\n",
       "        [-7.19259828e-02],\n",
       "        [ 9.34774876e-02],\n",
       "        [-1.02309965e-01],\n",
       "        [-1.79342091e-01],\n",
       "        [-1.11150527e-02],\n",
       "        [ 1.54833898e-01],\n",
       "        [ 1.13922693e-01],\n",
       "        [ 1.65712219e-02],\n",
       "        [ 1.52545556e-01],\n",
       "        [-1.07658118e-01],\n",
       "        [ 5.41546056e-03],\n",
       "        [-8.99286568e-02],\n",
       "        [-2.04216972e-01],\n",
       "        [-2.11647078e-01],\n",
       "        [-1.61851183e-01],\n",
       "        [ 1.49381757e-01],\n",
       "        [ 1.40445501e-01],\n",
       "        [-4.66308277e-03],\n",
       "        [ 2.05350235e-01]], dtype=float32),\n",
       " array([0.64274985], dtype=float32)]"
      ]
     },
     "execution_count": 15,
     "metadata": {},
     "output_type": "execute_result"
    }
   ],
   "source": [
    "model.get_weights()"
   ]
  },
  {
   "cell_type": "code",
   "execution_count": 16,
   "id": "8e81073b",
   "metadata": {},
   "outputs": [],
   "source": [
    "# Function to decode reviews\n",
    "def decode_review(encoded_review):\n",
    "    return ' '.join([reverse_word_index.get(i - 3, '?') for i in encoded_review])\n",
    "\n",
    "# Function to preprocess user input\n",
    "def preprocess_text(text):\n",
    "    words = text.lower().split()\n",
    "    encoded_review = [word_index.get(word, 2) + 3 for word in words]\n",
    "    padded_review = sequence.pad_sequences([encoded_review], maxlen=500)\n",
    "    return padded_review\n"
   ]
  },
  {
   "cell_type": "code",
   "execution_count": 17,
   "id": "592637b9",
   "metadata": {},
   "outputs": [],
   "source": [
    "## Prediction function\n",
    "\n",
    "def predict_sentiment(review):\n",
    "    preprocessed_input = preprocess_text(review)\n",
    "\n",
    "    prediction = model.predict(preprocessed_input)\n",
    "\n",
    "    sentiment = 'Positive' if prediction[0][0] > 0.5 else 'Negative'\n",
    "\n",
    "    return sentiment, prediction[0][0]\n"
   ]
  },
  {
   "cell_type": "code",
   "execution_count": 24,
   "id": "632ac5c8",
   "metadata": {},
   "outputs": [
    {
     "name": "stdout",
     "output_type": "stream",
     "text": [
      "\u001b[1m1/1\u001b[0m \u001b[32m━━━━━━━━━━━━━━━━━━━━\u001b[0m\u001b[37m\u001b[0m \u001b[1m0s\u001b[0m 43ms/step\n",
      "Review: This movie was fantastic! The acting was great and the plot was thrilling.\n",
      "Sentiment: Positive\n",
      "Prediction Score: 0.6239862442016602\n"
     ]
    }
   ],
   "source": [
    "# Step 4: User Input and Prediction\n",
    "# Example review for prediction\n",
    "example_review = \"This movie was fantastic! The acting was great and the plot was thrilling.\"\n",
    "\n",
    "sentiment, score = predict_sentiment(example_review)\n",
    "\n",
    "print(f'Review: {example_review}')\n",
    "print(f'Sentiment: {sentiment}')\n",
    "print(f'Prediction Score: {score}')\n"
   ]
  }
 ],
 "metadata": {
  "kernelspec": {
   "display_name": ".venv",
   "language": "python",
   "name": "python3"
  },
  "language_info": {
   "codemirror_mode": {
    "name": "ipython",
    "version": 3
   },
   "file_extension": ".py",
   "mimetype": "text/x-python",
   "name": "python",
   "nbconvert_exporter": "python",
   "pygments_lexer": "ipython3",
   "version": "3.12.3"
  }
 },
 "nbformat": 4,
 "nbformat_minor": 5
}
